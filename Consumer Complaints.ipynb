{
 "cells": [
  {
   "cell_type": "code",
   "execution_count": 519,
   "metadata": {
    "collapsed": true
   },
   "outputs": [],
   "source": [
    "%matplotlib inline"
   ]
  },
  {
   "cell_type": "code",
   "execution_count": 520,
   "metadata": {
    "collapsed": true
   },
   "outputs": [],
   "source": [
    "import numpy as np\n",
    "import seaborn as sns\n",
    "import matplotlib as plt\n",
    "import pandas as pd\n",
    "from pandas import DataFrame, Series"
   ]
  },
  {
   "cell_type": "code",
   "execution_count": 521,
   "metadata": {
    "collapsed": false
   },
   "outputs": [
    {
     "data": {
      "text/html": [
       "<div>\n",
       "<table border=\"1\" class=\"dataframe\">\n",
       "  <thead>\n",
       "    <tr style=\"text-align: right;\">\n",
       "      <th></th>\n",
       "      <th>Complaint ID</th>\n",
       "      <th>Product</th>\n",
       "      <th>Sub-product</th>\n",
       "      <th>Issue</th>\n",
       "      <th>Sub-issue</th>\n",
       "      <th>State</th>\n",
       "      <th>ZIP code</th>\n",
       "      <th>Submitted via</th>\n",
       "      <th>Date received</th>\n",
       "      <th>Date sent to company</th>\n",
       "      <th>Company</th>\n",
       "      <th>Company response</th>\n",
       "      <th>Timely response?</th>\n",
       "      <th>Consumer disputed?</th>\n",
       "    </tr>\n",
       "  </thead>\n",
       "  <tbody>\n",
       "    <tr>\n",
       "      <th>0</th>\n",
       "      <td>1177167</td>\n",
       "      <td>Debt collection</td>\n",
       "      <td>NaN</td>\n",
       "      <td>Cont'd attempts collect debt not owed</td>\n",
       "      <td>Debt is not mine</td>\n",
       "      <td>TX</td>\n",
       "      <td>77068.0</td>\n",
       "      <td>Web</td>\n",
       "      <td>12/31/2014</td>\n",
       "      <td>12/31/2014</td>\n",
       "      <td>Ad Astra Recovery Services Inc</td>\n",
       "      <td>Closed with explanation</td>\n",
       "      <td>Yes</td>\n",
       "      <td>NaN</td>\n",
       "    </tr>\n",
       "    <tr>\n",
       "      <th>1</th>\n",
       "      <td>1177166</td>\n",
       "      <td>Debt collection</td>\n",
       "      <td>NaN</td>\n",
       "      <td>Cont'd attempts collect debt not owed</td>\n",
       "      <td>Debt is not mine</td>\n",
       "      <td>TX</td>\n",
       "      <td>77068.0</td>\n",
       "      <td>Web</td>\n",
       "      <td>12/31/2014</td>\n",
       "      <td>12/31/2014</td>\n",
       "      <td>Unique Management Services, Inc</td>\n",
       "      <td>Closed with explanation</td>\n",
       "      <td>Yes</td>\n",
       "      <td>NaN</td>\n",
       "    </tr>\n",
       "    <tr>\n",
       "      <th>2</th>\n",
       "      <td>1177165</td>\n",
       "      <td>Debt collection</td>\n",
       "      <td>NaN</td>\n",
       "      <td>Cont'd attempts collect debt not owed</td>\n",
       "      <td>Debt is not mine</td>\n",
       "      <td>TX</td>\n",
       "      <td>77068.0</td>\n",
       "      <td>Web</td>\n",
       "      <td>12/31/2014</td>\n",
       "      <td>12/31/2014</td>\n",
       "      <td>CL Holdings, LLC</td>\n",
       "      <td>Closed with monetary relief</td>\n",
       "      <td>Yes</td>\n",
       "      <td>NaN</td>\n",
       "    </tr>\n",
       "    <tr>\n",
       "      <th>3</th>\n",
       "      <td>1177164</td>\n",
       "      <td>Debt collection</td>\n",
       "      <td>NaN</td>\n",
       "      <td>Cont'd attempts collect debt not owed</td>\n",
       "      <td>Debt is not mine</td>\n",
       "      <td>TX</td>\n",
       "      <td>77068.0</td>\n",
       "      <td>Web</td>\n",
       "      <td>12/31/2014</td>\n",
       "      <td>12/31/2014</td>\n",
       "      <td>Enhanced Recovery Company, LLC</td>\n",
       "      <td>Closed with non-monetary relief</td>\n",
       "      <td>Yes</td>\n",
       "      <td>NaN</td>\n",
       "    </tr>\n",
       "    <tr>\n",
       "      <th>4</th>\n",
       "      <td>1177163</td>\n",
       "      <td>Debt collection</td>\n",
       "      <td>NaN</td>\n",
       "      <td>Cont'd attempts collect debt not owed</td>\n",
       "      <td>Debt is not mine</td>\n",
       "      <td>TX</td>\n",
       "      <td>77068.0</td>\n",
       "      <td>Web</td>\n",
       "      <td>12/31/2014</td>\n",
       "      <td>12/31/2014</td>\n",
       "      <td>Enhanced Acquisitions, LLC</td>\n",
       "      <td>Closed with explanation</td>\n",
       "      <td>Yes</td>\n",
       "      <td>NaN</td>\n",
       "    </tr>\n",
       "  </tbody>\n",
       "</table>\n",
       "</div>"
      ],
      "text/plain": [
       "   Complaint ID          Product Sub-product  \\\n",
       "0       1177167  Debt collection         NaN   \n",
       "1       1177166  Debt collection         NaN   \n",
       "2       1177165  Debt collection         NaN   \n",
       "3       1177164  Debt collection         NaN   \n",
       "4       1177163  Debt collection         NaN   \n",
       "\n",
       "                                   Issue         Sub-issue State  ZIP code  \\\n",
       "0  Cont'd attempts collect debt not owed  Debt is not mine    TX   77068.0   \n",
       "1  Cont'd attempts collect debt not owed  Debt is not mine    TX   77068.0   \n",
       "2  Cont'd attempts collect debt not owed  Debt is not mine    TX   77068.0   \n",
       "3  Cont'd attempts collect debt not owed  Debt is not mine    TX   77068.0   \n",
       "4  Cont'd attempts collect debt not owed  Debt is not mine    TX   77068.0   \n",
       "\n",
       "  Submitted via Date received Date sent to company  \\\n",
       "0           Web    12/31/2014           12/31/2014   \n",
       "1           Web    12/31/2014           12/31/2014   \n",
       "2           Web    12/31/2014           12/31/2014   \n",
       "3           Web    12/31/2014           12/31/2014   \n",
       "4           Web    12/31/2014           12/31/2014   \n",
       "\n",
       "                           Company                 Company response  \\\n",
       "0   Ad Astra Recovery Services Inc          Closed with explanation   \n",
       "1  Unique Management Services, Inc          Closed with explanation   \n",
       "2                 CL Holdings, LLC      Closed with monetary relief   \n",
       "3   Enhanced Recovery Company, LLC  Closed with non-monetary relief   \n",
       "4       Enhanced Acquisitions, LLC          Closed with explanation   \n",
       "\n",
       "  Timely response? Consumer disputed?  \n",
       "0              Yes                NaN  \n",
       "1              Yes                NaN  \n",
       "2              Yes                NaN  \n",
       "3              Yes                NaN  \n",
       "4              Yes                NaN  "
      ]
     },
     "execution_count": 521,
     "metadata": {},
     "output_type": "execute_result"
    }
   ],
   "source": [
    "complaints = pd.read_csv('complaints_dec_2014.csv')\n",
    "complaints.head()"
   ]
  },
  {
   "cell_type": "code",
   "execution_count": 548,
   "metadata": {
    "collapsed": false
   },
   "outputs": [
    {
     "data": {
      "text/plain": [
       "Product\n",
       "Bank account or service    1136\n",
       "Consumer loan               578\n",
       "Credit card                1100\n",
       "Credit reporting           2113\n",
       "Debt collection            2942\n",
       "Money transfers             107\n",
       "Mortgage                   3002\n",
       "Other financial service      14\n",
       "Payday loan                 141\n",
       "Prepaid card                 70\n",
       "dtype: int64"
      ]
     },
     "execution_count": 548,
     "metadata": {},
     "output_type": "execute_result"
    },
    {
     "data": {
      "image/png": "[encoded data removed]",
      "text/plain": [
       "<matplotlib.figure.Figure at 0x10d519a90>"
      ]
     },
     "metadata": {},
     "output_type": "display_data"
    }
   ],
   "source": [
    "by_product = complaints.groupby('Product').size()\n",
    "by_product.plot.barh()\n",
    "by_product.head(10)"
   ]
  },
  {
   "cell_type": "code",
   "execution_count": 523,
   "metadata": {
    "collapsed": false
   },
   "outputs": [
    {
     "data": {
      "text/plain": [
       "<matplotlib.axes._subplots.AxesSubplot at 0x10fed3eb8>"
      ]
     },
     "execution_count": 523,
     "metadata": {},
     "output_type": "execute_result"
    },
    {
     "data": {
      "image/png": "[encoded data removed]",
      "text/plain": [
       "<matplotlib.figure.Figure at 0x10fea5a20>"
      ]
     },
     "metadata": {},
     "output_type": "display_data"
    }
   ],
   "source": [
    "by_company = complaints.groupby('Company').size()\n",
    "top_10_company_complaints = by_company.sort_values(ascending=False).head(10)\n",
    "top_10_company_complaints.plot.barh()"
   ]
  },
  {
   "cell_type": "code",
   "execution_count": 524,
   "metadata": {
    "collapsed": false
   },
   "outputs": [
    {
     "data": {
      "text/plain": [
       "Company response\n",
       "Closed                              239\n",
       "Closed with explanation            8185\n",
       "Closed with monetary relief         643\n",
       "Closed with non-monetary relief    1253\n",
       "In progress                        1056\n",
       "Untimely response                   167\n",
       "dtype: int64"
      ]
     },
     "execution_count": 524,
     "metadata": {},
     "output_type": "execute_result"
    },
    {
     "data": {
      "image/png": "[encoded data removed]",
      "text/plain": [
       "<matplotlib.figure.Figure at 0x10ea831d0>"
      ]
     },
     "metadata": {},
     "output_type": "display_data"
    }
   ],
   "source": [
    "by_response = complaints.groupby('Company response').size()\n",
    "by_response.plot.barh()\n",
    "by_response.head(10)"
   ]
  },
  {
   "cell_type": "code",
   "execution_count": 542,
   "metadata": {
    "collapsed": false
   },
   "outputs": [],
   "source": [
    "date_complaints = complaints.copy()\n",
    "consumer_complaints_by_date = date_complaints['Date sent to company']"
   ]
  },
  {
   "cell_type": "code",
   "execution_count": 549,
   "metadata": {
    "collapsed": false
   },
   "outputs": [
    {
     "data": {
      "text/plain": [
       "weekday\n",
       "0    2609\n",
       "1    2450\n",
       "2    2540\n",
       "3    1449\n",
       "4    1742\n",
       "5     429\n",
       "6     324\n",
       "dtype: int64"
      ]
     },
     "execution_count": 549,
     "metadata": {},
     "output_type": "execute_result"
    }
   ],
   "source": [
    "date_complaints.index = pd.to_datetime(consumer_complaints_by_date, format='%m/%d/%Y')\n",
    "date_complaints['weekday'] = date_complaints.index.to_series().map(lambda day: day.weekday())\n",
    "day_of_week = date_complaints.groupby('weekday').size()\n",
    "day_of_week.head(10)"
   ]
  },
  {
   "cell_type": "code",
   "execution_count": 552,
   "metadata": {
    "collapsed": false,
    "scrolled": true
   },
   "outputs": [
    {
     "data": {
      "text/html": [
       "<div>\n",
       "<table border=\"1\" class=\"dataframe\">\n",
       "  <thead>\n",
       "    <tr style=\"text-align: right;\">\n",
       "      <th></th>\n",
       "      <th>Complaint ID</th>\n",
       "      <th>Product</th>\n",
       "      <th>Sub-product</th>\n",
       "      <th>Issue</th>\n",
       "      <th>Sub-issue</th>\n",
       "      <th>State</th>\n",
       "      <th>ZIP code</th>\n",
       "      <th>Submitted via</th>\n",
       "      <th>Date received</th>\n",
       "      <th>date_sent_to_company</th>\n",
       "      <th>Company</th>\n",
       "      <th>Company response</th>\n",
       "      <th>Timely response?</th>\n",
       "      <th>Consumer disputed?</th>\n",
       "      <th>weekday</th>\n",
       "    </tr>\n",
       "    <tr>\n",
       "      <th>Date sent to company</th>\n",
       "      <th></th>\n",
       "      <th></th>\n",
       "      <th></th>\n",
       "      <th></th>\n",
       "      <th></th>\n",
       "      <th></th>\n",
       "      <th></th>\n",
       "      <th></th>\n",
       "      <th></th>\n",
       "      <th></th>\n",
       "      <th></th>\n",
       "      <th></th>\n",
       "      <th></th>\n",
       "      <th></th>\n",
       "      <th></th>\n",
       "    </tr>\n",
       "  </thead>\n",
       "  <tbody>\n",
       "    <tr>\n",
       "      <th>2014-12-31</th>\n",
       "      <td>1177167</td>\n",
       "      <td>Debt collection</td>\n",
       "      <td>NaN</td>\n",
       "      <td>Cont'd attempts collect debt not owed</td>\n",
       "      <td>Debt is not mine</td>\n",
       "      <td>TX</td>\n",
       "      <td>77068.0</td>\n",
       "      <td>Web</td>\n",
       "      <td>12/31/2014</td>\n",
       "      <td>12/31/2014</td>\n",
       "      <td>Ad Astra Recovery Services Inc</td>\n",
       "      <td>Closed with explanation</td>\n",
       "      <td>Yes</td>\n",
       "      <td>NaN</td>\n",
       "      <td>2</td>\n",
       "    </tr>\n",
       "    <tr>\n",
       "      <th>2014-12-31</th>\n",
       "      <td>1177166</td>\n",
       "      <td>Debt collection</td>\n",
       "      <td>NaN</td>\n",
       "      <td>Cont'd attempts collect debt not owed</td>\n",
       "      <td>Debt is not mine</td>\n",
       "      <td>TX</td>\n",
       "      <td>77068.0</td>\n",
       "      <td>Web</td>\n",
       "      <td>12/31/2014</td>\n",
       "      <td>12/31/2014</td>\n",
       "      <td>Unique Management Services, Inc</td>\n",
       "      <td>Closed with explanation</td>\n",
       "      <td>Yes</td>\n",
       "      <td>NaN</td>\n",
       "      <td>2</td>\n",
       "    </tr>\n",
       "    <tr>\n",
       "      <th>2014-12-31</th>\n",
       "      <td>1177165</td>\n",
       "      <td>Debt collection</td>\n",
       "      <td>NaN</td>\n",
       "      <td>Cont'd attempts collect debt not owed</td>\n",
       "      <td>Debt is not mine</td>\n",
       "      <td>TX</td>\n",
       "      <td>77068.0</td>\n",
       "      <td>Web</td>\n",
       "      <td>12/31/2014</td>\n",
       "      <td>12/31/2014</td>\n",
       "      <td>CL Holdings, LLC</td>\n",
       "      <td>Closed with monetary relief</td>\n",
       "      <td>Yes</td>\n",
       "      <td>NaN</td>\n",
       "      <td>2</td>\n",
       "    </tr>\n",
       "    <tr>\n",
       "      <th>2014-12-31</th>\n",
       "      <td>1177164</td>\n",
       "      <td>Debt collection</td>\n",
       "      <td>NaN</td>\n",
       "      <td>Cont'd attempts collect debt not owed</td>\n",
       "      <td>Debt is not mine</td>\n",
       "      <td>TX</td>\n",
       "      <td>77068.0</td>\n",
       "      <td>Web</td>\n",
       "      <td>12/31/2014</td>\n",
       "      <td>12/31/2014</td>\n",
       "      <td>Enhanced Recovery Company, LLC</td>\n",
       "      <td>Closed with non-monetary relief</td>\n",
       "      <td>Yes</td>\n",
       "      <td>NaN</td>\n",
       "      <td>2</td>\n",
       "    </tr>\n",
       "    <tr>\n",
       "      <th>2014-12-31</th>\n",
       "      <td>1177163</td>\n",
       "      <td>Debt collection</td>\n",
       "      <td>NaN</td>\n",
       "      <td>Cont'd attempts collect debt not owed</td>\n",
       "      <td>Debt is not mine</td>\n",
       "      <td>TX</td>\n",
       "      <td>77068.0</td>\n",
       "      <td>Web</td>\n",
       "      <td>12/31/2014</td>\n",
       "      <td>12/31/2014</td>\n",
       "      <td>Enhanced Acquisitions, LLC</td>\n",
       "      <td>Closed with explanation</td>\n",
       "      <td>Yes</td>\n",
       "      <td>NaN</td>\n",
       "      <td>2</td>\n",
       "    </tr>\n",
       "    <tr>\n",
       "      <th>2014-12-31</th>\n",
       "      <td>1177162</td>\n",
       "      <td>Debt collection</td>\n",
       "      <td>NaN</td>\n",
       "      <td>Cont'd attempts collect debt not owed</td>\n",
       "      <td>Debt is not mine</td>\n",
       "      <td>TX</td>\n",
       "      <td>77068.0</td>\n",
       "      <td>Web</td>\n",
       "      <td>12/31/2014</td>\n",
       "      <td>12/31/2014</td>\n",
       "      <td>Credit Systems International, Inc.</td>\n",
       "      <td>Closed with explanation</td>\n",
       "      <td>Yes</td>\n",
       "      <td>NaN</td>\n",
       "      <td>2</td>\n",
       "    </tr>\n",
       "    <tr>\n",
       "      <th>2015-01-07</th>\n",
       "      <td>1177154</td>\n",
       "      <td>Credit card</td>\n",
       "      <td>NaN</td>\n",
       "      <td>Billing disputes</td>\n",
       "      <td>NaN</td>\n",
       "      <td>GA</td>\n",
       "      <td>31322.0</td>\n",
       "      <td>Web</td>\n",
       "      <td>12/31/2014</td>\n",
       "      <td>01/07/2015</td>\n",
       "      <td>Amex</td>\n",
       "      <td>Closed with explanation</td>\n",
       "      <td>Yes</td>\n",
       "      <td>NaN</td>\n",
       "      <td>2</td>\n",
       "    </tr>\n",
       "    <tr>\n",
       "      <th>2015-01-07</th>\n",
       "      <td>1177143</td>\n",
       "      <td>Debt collection</td>\n",
       "      <td>Payday loan</td>\n",
       "      <td>Taking/threatening an illegal action</td>\n",
       "      <td>Threatened arrest/jail if do not pay</td>\n",
       "      <td>AZ</td>\n",
       "      <td>85023.0</td>\n",
       "      <td>Web</td>\n",
       "      <td>12/31/2014</td>\n",
       "      <td>01/07/2015</td>\n",
       "      <td>Speedy Cash Holdings</td>\n",
       "      <td>Closed</td>\n",
       "      <td>Yes</td>\n",
       "      <td>NaN</td>\n",
       "      <td>2</td>\n",
       "    </tr>\n",
       "    <tr>\n",
       "      <th>2014-12-31</th>\n",
       "      <td>1177140</td>\n",
       "      <td>Debt collection</td>\n",
       "      <td>NaN</td>\n",
       "      <td>Cont'd attempts collect debt not owed</td>\n",
       "      <td>Debt is not mine</td>\n",
       "      <td>TX</td>\n",
       "      <td>77045.0</td>\n",
       "      <td>Web</td>\n",
       "      <td>12/31/2014</td>\n",
       "      <td>12/31/2014</td>\n",
       "      <td>Afni, Inc.</td>\n",
       "      <td>Closed with explanation</td>\n",
       "      <td>Yes</td>\n",
       "      <td>NaN</td>\n",
       "      <td>2</td>\n",
       "    </tr>\n",
       "    <tr>\n",
       "      <th>2014-12-31</th>\n",
       "      <td>1177139</td>\n",
       "      <td>Debt collection</td>\n",
       "      <td>NaN</td>\n",
       "      <td>Cont'd attempts collect debt not owed</td>\n",
       "      <td>Debt is not mine</td>\n",
       "      <td>TX</td>\n",
       "      <td>77045.0</td>\n",
       "      <td>Web</td>\n",
       "      <td>12/31/2014</td>\n",
       "      <td>12/31/2014</td>\n",
       "      <td>Enhanced Recovery Company, LLC</td>\n",
       "      <td>Closed with non-monetary relief</td>\n",
       "      <td>Yes</td>\n",
       "      <td>NaN</td>\n",
       "      <td>2</td>\n",
       "    </tr>\n",
       "  </tbody>\n",
       "</table>\n",
       "</div>"
      ],
      "text/plain": [
       "                      Complaint ID          Product  Sub-product  \\\n",
       "Date sent to company                                               \n",
       "2014-12-31                 1177167  Debt collection          NaN   \n",
       "2014-12-31                 1177166  Debt collection          NaN   \n",
       "2014-12-31                 1177165  Debt collection          NaN   \n",
       "2014-12-31                 1177164  Debt collection          NaN   \n",
       "2014-12-31                 1177163  Debt collection          NaN   \n",
       "2014-12-31                 1177162  Debt collection          NaN   \n",
       "2015-01-07                 1177154      Credit card          NaN   \n",
       "2015-01-07                 1177143  Debt collection  Payday loan   \n",
       "2014-12-31                 1177140  Debt collection          NaN   \n",
       "2014-12-31                 1177139  Debt collection          NaN   \n",
       "\n",
       "                                                      Issue  \\\n",
       "Date sent to company                                          \n",
       "2014-12-31            Cont'd attempts collect debt not owed   \n",
       "2014-12-31            Cont'd attempts collect debt not owed   \n",
       "2014-12-31            Cont'd attempts collect debt not owed   \n",
       "2014-12-31            Cont'd attempts collect debt not owed   \n",
       "2014-12-31            Cont'd attempts collect debt not owed   \n",
       "2014-12-31            Cont'd attempts collect debt not owed   \n",
       "2015-01-07                                 Billing disputes   \n",
       "2015-01-07             Taking/threatening an illegal action   \n",
       "2014-12-31            Cont'd attempts collect debt not owed   \n",
       "2014-12-31            Cont'd attempts collect debt not owed   \n",
       "\n",
       "                                                 Sub-issue State  ZIP code  \\\n",
       "Date sent to company                                                         \n",
       "2014-12-31                                Debt is not mine    TX   77068.0   \n",
       "2014-12-31                                Debt is not mine    TX   77068.0   \n",
       "2014-12-31                                Debt is not mine    TX   77068.0   \n",
       "2014-12-31                                Debt is not mine    TX   77068.0   \n",
       "2014-12-31                                Debt is not mine    TX   77068.0   \n",
       "2014-12-31                                Debt is not mine    TX   77068.0   \n",
       "2015-01-07                                             NaN    GA   31322.0   \n",
       "2015-01-07            Threatened arrest/jail if do not pay    AZ   85023.0   \n",
       "2014-12-31                                Debt is not mine    TX   77045.0   \n",
       "2014-12-31                                Debt is not mine    TX   77045.0   \n",
       "\n",
       "                     Submitted via Date received date_sent_to_company  \\\n",
       "Date sent to company                                                    \n",
       "2014-12-31                     Web    12/31/2014           12/31/2014   \n",
       "2014-12-31                     Web    12/31/2014           12/31/2014   \n",
       "2014-12-31                     Web    12/31/2014           12/31/2014   \n",
       "2014-12-31                     Web    12/31/2014           12/31/2014   \n",
       "2014-12-31                     Web    12/31/2014           12/31/2014   \n",
       "2014-12-31                     Web    12/31/2014           12/31/2014   \n",
       "2015-01-07                     Web    12/31/2014           01/07/2015   \n",
       "2015-01-07                     Web    12/31/2014           01/07/2015   \n",
       "2014-12-31                     Web    12/31/2014           12/31/2014   \n",
       "2014-12-31                     Web    12/31/2014           12/31/2014   \n",
       "\n",
       "                                                 Company  \\\n",
       "Date sent to company                                       \n",
       "2014-12-31                Ad Astra Recovery Services Inc   \n",
       "2014-12-31               Unique Management Services, Inc   \n",
       "2014-12-31                              CL Holdings, LLC   \n",
       "2014-12-31                Enhanced Recovery Company, LLC   \n",
       "2014-12-31                    Enhanced Acquisitions, LLC   \n",
       "2014-12-31            Credit Systems International, Inc.   \n",
       "2015-01-07                                          Amex   \n",
       "2015-01-07                          Speedy Cash Holdings   \n",
       "2014-12-31                                    Afni, Inc.   \n",
       "2014-12-31                Enhanced Recovery Company, LLC   \n",
       "\n",
       "                                     Company response Timely response?  \\\n",
       "Date sent to company                                                     \n",
       "2014-12-31                    Closed with explanation              Yes   \n",
       "2014-12-31                    Closed with explanation              Yes   \n",
       "2014-12-31                Closed with monetary relief              Yes   \n",
       "2014-12-31            Closed with non-monetary relief              Yes   \n",
       "2014-12-31                    Closed with explanation              Yes   \n",
       "2014-12-31                    Closed with explanation              Yes   \n",
       "2015-01-07                    Closed with explanation              Yes   \n",
       "2015-01-07                                     Closed              Yes   \n",
       "2014-12-31                    Closed with explanation              Yes   \n",
       "2014-12-31            Closed with non-monetary relief              Yes   \n",
       "\n",
       "                     Consumer disputed?  weekday  \n",
       "Date sent to company                              \n",
       "2014-12-31                          NaN        2  \n",
       "2014-12-31                          NaN        2  \n",
       "2014-12-31                          NaN        2  \n",
       "2014-12-31                          NaN        2  \n",
       "2014-12-31                          NaN        2  \n",
       "2014-12-31                          NaN        2  \n",
       "2015-01-07                          NaN        2  \n",
       "2015-01-07                          NaN        2  \n",
       "2014-12-31                          NaN        2  \n",
       "2014-12-31                          NaN        2  "
      ]
     },
     "execution_count": 552,
     "metadata": {},
     "output_type": "execute_result"
    }
   ],
   "source": [
    "date_complaints = date_complaints.rename(columns={'Date sent to company': 'date_sent_to_company'})\n",
    "date_complaints.head(10)\n"
   ]
  },
  {
   "cell_type": "code",
   "execution_count": 553,
   "metadata": {
    "collapsed": false
   },
   "outputs": [
    {
     "ename": "AttributeError",
     "evalue": "'DataFrame' object has no attribute 'consumer_complaints_by_date'",
     "output_type": "error",
     "traceback": [
      "\u001b[0;31m---------------------------------------------------------------------------\u001b[0m",
      "\u001b[0;31mAttributeError\u001b[0m                            Traceback (most recent call last)",
      "\u001b[0;32m<ipython-input-553-cef8ce236aba>\u001b[0m in \u001b[0;36m<module>\u001b[0;34m()\u001b[0m\n\u001b[0;32m----> 1\u001b[0;31m \u001b[0mdate_complaints\u001b[0m\u001b[0;34m.\u001b[0m\u001b[0mconsumer_complaints_by_date\u001b[0m\u001b[0;34m.\u001b[0m\u001b[0munique\u001b[0m\u001b[0;34m(\u001b[0m\u001b[0;34m)\u001b[0m\u001b[0;34m\u001b[0m\u001b[0m\n\u001b[0m",
      "\u001b[0;32m/usr/local/lib/python3.5/site-packages/pandas/core/generic.py\u001b[0m in \u001b[0;36m__getattr__\u001b[0;34m(self, name)\u001b[0m\n\u001b[1;32m   2667\u001b[0m             \u001b[0;32mif\u001b[0m \u001b[0mname\u001b[0m \u001b[0;32min\u001b[0m \u001b[0mself\u001b[0m\u001b[0;34m.\u001b[0m\u001b[0m_info_axis\u001b[0m\u001b[0;34m:\u001b[0m\u001b[0;34m\u001b[0m\u001b[0m\n\u001b[1;32m   2668\u001b[0m                 \u001b[0;32mreturn\u001b[0m \u001b[0mself\u001b[0m\u001b[0;34m[\u001b[0m\u001b[0mname\u001b[0m\u001b[0;34m]\u001b[0m\u001b[0;34m\u001b[0m\u001b[0m\n\u001b[0;32m-> 2669\u001b[0;31m             \u001b[0;32mreturn\u001b[0m \u001b[0mobject\u001b[0m\u001b[0;34m.\u001b[0m\u001b[0m__getattribute__\u001b[0m\u001b[0;34m(\u001b[0m\u001b[0mself\u001b[0m\u001b[0;34m,\u001b[0m \u001b[0mname\u001b[0m\u001b[0;34m)\u001b[0m\u001b[0;34m\u001b[0m\u001b[0m\n\u001b[0m\u001b[1;32m   2670\u001b[0m \u001b[0;34m\u001b[0m\u001b[0m\n\u001b[1;32m   2671\u001b[0m     \u001b[0;32mdef\u001b[0m \u001b[0m__setattr__\u001b[0m\u001b[0;34m(\u001b[0m\u001b[0mself\u001b[0m\u001b[0;34m,\u001b[0m \u001b[0mname\u001b[0m\u001b[0;34m,\u001b[0m \u001b[0mvalue\u001b[0m\u001b[0;34m)\u001b[0m\u001b[0;34m:\u001b[0m\u001b[0;34m\u001b[0m\u001b[0m\n",
      "\u001b[0;31mAttributeError\u001b[0m: 'DataFrame' object has no attribute 'consumer_complaints_by_date'"
     ]
    }
   ],
   "source": [
    "date_complaints.consumer_complaints_by_date.unique()"
   ]
  },
  {
   "cell_type": "code",
   "execution_count": 530,
   "metadata": {
    "collapsed": false
   },
   "outputs": [],
   "source": []
  },
  {
   "cell_type": "code",
   "execution_count": 536,
   "metadata": {
    "collapsed": false
   },
   "outputs": [
    {
     "data": {
      "text/plain": [
       "weekday\n",
       "0    2609\n",
       "1    2450\n",
       "2    2540\n",
       "3    1449\n",
       "4    1742\n",
       "5     429\n",
       "6     324\n",
       "dtype: int64"
      ]
     },
     "execution_count": 536,
     "metadata": {},
     "output_type": "execute_result"
    }
   ],
   "source": []
  },
  {
   "cell_type": "code",
   "execution_count": 532,
   "metadata": {
    "collapsed": false
   },
   "outputs": [
    {
     "ename": "SyntaxError",
     "evalue": "invalid syntax (<ipython-input-532-c85a1b45f693>, line 1)",
     "output_type": "error",
     "traceback": [
      "\u001b[0;36m  File \u001b[0;32m\"<ipython-input-532-c85a1b45f693>\"\u001b[0;36m, line \u001b[0;32m1\u001b[0m\n\u001b[0;31m    date_complaints.'Date sent to company'.unique()\u001b[0m\n\u001b[0m                                         ^\u001b[0m\n\u001b[0;31mSyntaxError\u001b[0m\u001b[0;31m:\u001b[0m invalid syntax\n"
     ]
    }
   ],
   "source": []
  },
  {
   "cell_type": "code",
   "execution_count": null,
   "metadata": {
    "collapsed": false
   },
   "outputs": [],
   "source": []
  },
  {
   "cell_type": "code",
   "execution_count": null,
   "metadata": {
    "collapsed": true
   },
   "outputs": [],
   "source": []
  }
 ],
 "metadata": {
  "kernelspec": {
   "display_name": "Python 3",
   "language": "python",
   "name": "python3"
  },
  "language_info": {
   "codemirror_mode": {
    "name": "ipython",
    "version": 3
   },
   "file_extension": ".py",
   "mimetype": "text/x-python",
   "name": "python",
   "nbconvert_exporter": "python",
   "pygments_lexer": "ipython3",
   "version": "3.5.1"
  }
 },
 "nbformat": 4,
 "nbformat_minor": 0
}
